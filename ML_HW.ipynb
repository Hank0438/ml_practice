{
 "cells": [
  {
   "cell_type": "code",
   "execution_count": 1,
   "metadata": {
    "collapsed": true
   },
   "outputs": [],
   "source": [
    "import numpy as np\n",
    "N = np.array([420000, 440000, 460000, 480000, 500000]) "
   ]
  },
  {
   "cell_type": "code",
   "execution_count": 2,
   "metadata": {
    "collapsed": false
   },
   "outputs": [
    {
     "data": {
      "text/plain": [
       "array([  6.59915936,   0.81435952,  -4.99112285, -10.81552671, -16.65730676])"
      ]
     },
     "execution_count": 2,
     "metadata": {},
     "output_type": "execute_result"
    }
   ],
   "source": [
    "10*np.log(2*N)-(1/8)*0.0025*N - np.log(0.95/4)"
   ]
  },
  {
   "cell_type": "code",
   "execution_count": 46,
   "metadata": {
    "collapsed": false
   },
   "outputs": [
    {
     "data": {
      "text/plain": [
       "(0.63217491520083602,\n",
       " 0.33130878596163948,\n",
       " 0.22362063173365476,\n",
       " 0.21513089780785702,\n",
       " 0.86042597070627391)"
      ]
     },
     "execution_count": 46,
     "metadata": {},
     "output_type": "execute_result"
    }
   ],
   "source": [
    "N = 10000\n",
    "dvc = 50\n",
    "theta = 0.05\n",
    "a = np.sqrt( (8/N) * (np.log(4) + 50*np.log(2*N) - np.log(0.05)) )\n",
    "b = np.sqrt( (2/N) * (np.log(2) + 51*np.log(N)) ) + np.sqrt( (2/N)*-np.log(theta) ) + 1/N\n",
    "c = np.sqrt( (1/N) * (0.1 + (np.log(6) + 50*np.log(2*N) - np.log(theta) ) ) )\n",
    "d = np.sqrt( (1/(2*N)) * ((0.2*1.05) + (np.log(4) + 100*np.log(N) - np.log(theta) ) ) )\n",
    "e = np.sqrt( (16/N) * (np.log(2) + 50*np.log(N) - (1/2)*np.log(0.05)) )\n",
    "a, b, c, d, e"
   ]
  },
  {
   "cell_type": "code",
   "execution_count": 33,
   "metadata": {
    "collapsed": false
   },
   "outputs": [
    {
     "name": "stdout",
     "output_type": "stream",
     "text": [
      "0\n",
      "0 0\n",
      "1\n",
      "0.02 0.0\n",
      "2\n",
      "0.039398 0.0002\n",
      "3\n",
      "0.05821 0.000578\n",
      "4\n",
      "0.076452 0.001114\n",
      "5\n",
      "0.09414 0.001789\n"
     ]
    }
   ],
   "source": [
    "#HW3-7\n",
    "u,v = 0,0\n",
    "for i in range(6):\n",
    "    print(i)\n",
    "    print(u,v)\n",
    "    new_u = np.exp(u) + v*np.exp(u*v) + 2*u - 2*v - 3\n",
    "    new_v = 2*np.exp(2*v) + u*np.exp(u*v) - 2*u + 4*v - 2\n",
    "    new_u = np.round(new_u, decimals=4) \n",
    "    new_v = np.round(new_v, decimals=4)\n",
    "    u = u - 0.01*new_u\n",
    "    v = v - 0.01*new_v"
   ]
  },
  {
   "cell_type": "code",
   "execution_count": 34,
   "metadata": {
    "collapsed": false
   },
   "outputs": [
    {
     "data": {
      "text/plain": [
       "2.8250003020959809"
      ]
     },
     "execution_count": 34,
     "metadata": {},
     "output_type": "execute_result"
    }
   ],
   "source": [
    "u,v = 0.09414,0.001789\n",
    "e = np.exp(u) + np.exp(2*v) + np.exp(u*v) + np.power(u, 2) - 2*u*v + 2*np.power(v, 2) - 3*u -2*v\n",
    "e"
   ]
  },
  {
   "cell_type": "code",
   "execution_count": 35,
   "metadata": {
    "collapsed": false
   },
   "outputs": [
    {
     "data": {
      "text/plain": [
       "[1.5, 4.0, -1.0, -2.0, 0.0, 3.0]"
      ]
     },
     "execution_count": 35,
     "metadata": {},
     "output_type": "execute_result"
    }
   ],
   "source": [
    "u,v = 0,0\n",
    "E = np.exp(u) + np.exp(2*v) + np.exp(u*v) + np.power(u,2) - 2*u*v + 2*np.power(v,2) - 3*u -2*v\n",
    "E_u = np.exp(u) + v*np.exp(u*v) + 2*u - 2*v - 3\n",
    "E_uu = np.exp(u) + np.power(v,2)*np.exp(u*v) + 2\n",
    "E_v = 2*np.exp(2*v) + u*np.exp(u*v) - 2*u + 4*v - 2\n",
    "E_vv = 4*np.exp(2*v) + np.power(u,2)*np.exp(u*v) + 4\n",
    "E_uv = u*v*np.exp(u*v) + np.exp(u*v) - 2\n",
    "[E_uu/2, E_vv/2, E_uv, E_u, E_v, E]"
   ]
  },
  {
   "cell_type": "code",
   "execution_count": 38,
   "metadata": {
    "collapsed": false
   },
   "outputs": [
    {
     "data": {
      "text/plain": [
       "matrix([[ 3., -1.],\n",
       "        [-1.,  8.]])"
      ]
     },
     "execution_count": 38,
     "metadata": {},
     "output_type": "execute_result"
    }
   ],
   "source": [
    "H = np.matrix([[E_uu, E_uv], [E_uv, E_vv]])\n",
    "H"
   ]
  },
  {
   "cell_type": "code",
   "execution_count": 4,
   "metadata": {
    "collapsed": false
   },
   "outputs": [
    {
     "name": "stdout",
     "output_type": "stream",
     "text": [
      "0\n",
      "[[ 0.69565217  0.08695652]]\n",
      "1\n",
      "[[ 0.61376222  0.0711079 ]]\n",
      "2\n",
      "[[ 0.61181286  0.07050006]]\n",
      "3\n",
      "[[ 0.61181172  0.07049955]]\n",
      "4\n",
      "[[ 0.61181172  0.07049955]]\n",
      "5\n",
      "[[ 0.61181172  0.07049955]]\n",
      "2.36082334564\n"
     ]
    }
   ],
   "source": [
    "import numpy as np\n",
    "from numpy.linalg import inv\n",
    "uv = np.matrix([0,0])\n",
    "for i in range(6):\n",
    "    print(i)\n",
    "    u,v = uv[0,0],uv[0,1] \n",
    "    E_u = np.exp(u) + v*np.exp(u*v) + 2*u - 2*v - 3\n",
    "    E_v = 2*np.exp(2*v) + u*np.exp(u*v) - 2*u + 4*v - 2\n",
    "    E_uu = np.exp(u) + np.power(v,2)*np.exp(u*v) + 2\n",
    "    E_vv = 4*np.exp(2*v) + np.power(u,2)*np.exp(u*v) + 4\n",
    "    E_uv = u*v*np.exp(u*v) + np.exp(u*v) - 2\n",
    "    H = np.matrix([[E_uu, E_uv], [E_uv, E_vv]])\n",
    "    H_inv = inv(H)\n",
    "    uv = uv - np.dot(np.matrix([E_u, E_v]), H_inv)\n",
    "    print(uv)\n",
    "u,v = uv[0,0],uv[0,1] \n",
    "E = np.exp(u) + np.exp(2*v) + np.exp(u*v) + np.power(u, 2) - 2*u*v + 2*np.power(v, 2) - 3*u -2*v\n",
    "print(E)"
   ]
  },
  {
   "cell_type": "code",
   "execution_count": 4,
   "metadata": {
    "collapsed": false
   },
   "outputs": [
    {
     "data": {
      "text/plain": [
       "0.2706705664732254"
      ]
     },
     "execution_count": 4,
     "metadata": {},
     "output_type": "execute_result"
    }
   ],
   "source": [
    "#HW4-9\n",
    "N = 10000\n",
    "x = 2/np.exp(2)\n",
    "x"
   ]
  },
  {
   "cell_type": "code",
   "execution_count": null,
   "metadata": {
    "collapsed": true
   },
   "outputs": [],
   "source": []
  }
 ],
 "metadata": {
  "kernelspec": {
   "display_name": "Python 3",
   "language": "python",
   "name": "python3"
  },
  "language_info": {
   "codemirror_mode": {
    "name": "ipython",
    "version": 3
   },
   "file_extension": ".py",
   "mimetype": "text/x-python",
   "name": "python",
   "nbconvert_exporter": "python",
   "pygments_lexer": "ipython3",
   "version": "3.6.0"
  }
 },
 "nbformat": 4,
 "nbformat_minor": 2
}
